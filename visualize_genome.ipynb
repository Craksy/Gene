{
 "cells": [
  {
   "cell_type": "markdown",
   "metadata": {},
   "source": [
    "# Visualize Genome\n",
    "----\n",
    "This document provides a way to visualize genomes and their derived networks\n",
    "\n",
    "This is primarily intended as a debugging tool for development"
   ]
  },
  {
   "cell_type": "code",
   "execution_count": 1,
   "metadata": {},
   "outputs": [],
   "source": [
    "%load_ext autoreload\n",
    "%autoreload 2"
   ]
  },
  {
   "cell_type": "code",
   "execution_count": 2,
   "metadata": {},
   "outputs": [],
   "source": [
    "from network import Network\n",
    "from genome import Genome\n",
    "from graphviz import Digraph\n",
    "from ipycanvas import Canvas\n",
    "from gene import Gene"
   ]
  },
  {
   "cell_type": "markdown",
   "metadata": {},
   "source": [
    "---\n",
    "### Functions\n",
    "These are the tools used to visualize code objects.\n",
    "\n",
    "\n",
    "I might put these into actual python file, to reserve this document for testing"
   ]
  },
  {
   "cell_type": "code",
   "execution_count": 3,
   "metadata": {},
   "outputs": [],
   "source": [
    "def visualize_network(genome):\n",
    "    graph = Digraph()\n",
    "    ins = Digraph()\n",
    "    ins.graph_attr.update(rank='min')\n",
    "    outs = Digraph()\n",
    "    outs.graph_attr.update(rank='max')\n",
    "\n",
    "    for node in genome.node_genes:\n",
    "        lbl = str(node.identity)\n",
    "        color = None\n",
    "        if node.typ == 'input':\n",
    "            color = 'red'\n",
    "            ins.node(lbl, color='red')\n",
    "        elif node.typ == 'output':\n",
    "            color = 'blue'\n",
    "            outs.node(lbl, color='blue')\n",
    "        graph.node(lbl)\n",
    "\n",
    "    graph.subgraph(ins)\n",
    "    graph.subgraph(outs)\n",
    "    for con in genome.connection_genes:\n",
    "        graph.edge(str(con.in_node), str(con.out_node))\n",
    "    return graph"
   ]
  },
  {
   "cell_type": "code",
   "execution_count": 4,
   "metadata": {},
   "outputs": [],
   "source": [
    "def draw_gene(gene, canvas, x, y):\n",
    "    inno = 'Inno: {}'.format(gene.innovation)\n",
    "    edge = '{} -> {}'.format(gene.in_node, gene.out_node)\n",
    "    weight = 'W:{:.3f}'.format(gene.weight)\n",
    "    \n",
    "    canvas.stroke_rect(x,y, 60, 60)\n",
    "    canvas.fill_text(inno, x+7, y+15)\n",
    "    canvas.fill_text(edge, x+7, y+35)\n",
    "    canvas.fill_text(weight, x+7, y+55)"
   ]
  },
  {
   "cell_type": "code",
   "execution_count": 5,
   "metadata": {},
   "outputs": [],
   "source": [
    "def draw_genome(genome):\n",
    "    # TODO: do something about these horrible color choices.\n",
    "    can = Canvas(width=3000,height=100)\n",
    "    can.font = '12px sans'\n",
    "    can.stroke_style = 'blue'\n",
    "    can.fill_style = 'white'\n",
    "    \n",
    "    for i, g in enumerate(genome.connection_genes):\n",
    "        draw_gene(g, can, i*70, 5)\n",
    "    return can\n",
    "    "
   ]
  },
  {
   "cell_type": "markdown",
   "metadata": {},
   "source": [
    "---\n",
    "### Testing\n",
    "And this is where i test my code in order to find out how badly i messed up"
   ]
  },
  {
   "cell_type": "code",
   "execution_count": 6,
   "metadata": {},
   "outputs": [],
   "source": [
    "#test_genome = Genome(3,2)\n",
    "#test_genome.mutate_new_node()"
   ]
  },
  {
   "cell_type": "code",
   "execution_count": 7,
   "metadata": {},
   "outputs": [],
   "source": [
    "#test_genome.mutate_new_weight()"
   ]
  },
  {
   "cell_type": "code",
   "execution_count": 8,
   "metadata": {},
   "outputs": [],
   "source": [
    "#test_genome.mutate_new_node()"
   ]
  },
  {
   "cell_type": "code",
   "execution_count": 9,
   "metadata": {},
   "outputs": [],
   "source": [
    "#jvisualize_network(test_genome)"
   ]
  },
  {
   "cell_type": "code",
   "execution_count": 10,
   "metadata": {},
   "outputs": [],
   "source": [
    "#draw_genome(test_genome)"
   ]
  },
  {
   "cell_type": "markdown",
   "metadata": {},
   "source": [
    "# Process diagram\n",
    "made it mostly to produce an image to put in my notes.\n",
    "just for personal reference"
   ]
  },
  {
   "cell_type": "code",
   "execution_count": 11,
   "metadata": {},
   "outputs": [],
   "source": [
    "algorithm = Digraph(engine='circo')\n",
    "algorithm.node('I', 'Initialize')\n",
    "algorithm.node('E', 'Evaluate')\n",
    "algorithm.node('S', 'Speciate')\n",
    "algorithm.node('K', 'Kill')\n",
    "algorithm.node('C', 'Crossover')\n",
    "algorithm.node('M', 'Mutate')\n",
    "\n",
    "algorithm.edges(['IE', 'ES', 'SK', 'KC', 'CM', 'ME'])\n",
    "#algorithm"
   ]
  },
  {
   "cell_type": "code",
   "execution_count": 12,
   "metadata": {},
   "outputs": [
    {
     "data": {
      "text/plain": [
       "[47, 1, 1, 1]"
      ]
     },
     "execution_count": 12,
     "metadata": {},
     "output_type": "execute_result"
    }
   ],
   "source": [
    "g = Gene(None)\n",
    "g.init_population()\n",
    "g.speciate_population()\n",
    "[len(sp.population) for sp in g.species]"
   ]
  },
  {
   "cell_type": "code",
   "execution_count": 13,
   "metadata": {},
   "outputs": [],
   "source": [
    "sp = g.species[0]\n",
    "g1 = sp.population[5]\n",
    "g2 = sp.population[15]"
   ]
  },
  {
   "cell_type": "code",
   "execution_count": 14,
   "metadata": {},
   "outputs": [
    {
     "data": {
      "text/plain": [
       "<genome.Genome at 0x7f0abe5bd5e0>"
      ]
     },
     "execution_count": 14,
     "metadata": {},
     "output_type": "execute_result"
    }
   ],
   "source": [
    "g1"
   ]
  },
  {
   "cell_type": "code",
   "execution_count": 15,
   "metadata": {},
   "outputs": [
    {
     "data": {
      "image/svg+xml": [
       "<?xml version=\"1.0\" encoding=\"UTF-8\" standalone=\"no\"?>\n",
       "<!DOCTYPE svg PUBLIC \"-//W3C//DTD SVG 1.1//EN\"\n",
       " \"http://www.w3.org/Graphics/SVG/1.1/DTD/svg11.dtd\">\n",
       "<!-- Generated by graphviz version 2.44.1 (0)\n",
       " -->\n",
       "<!-- Pages: 1 -->\n",
       "<svg width=\"237pt\" height=\"188pt\"\n",
       " viewBox=\"0.00 0.00 236.53 188.00\" xmlns=\"http://www.w3.org/2000/svg\" xmlns:xlink=\"http://www.w3.org/1999/xlink\">\n",
       "<g id=\"graph0\" class=\"graph\" transform=\"scale(1 1) rotate(0) translate(4 184)\">\n",
       "<polygon fill=\"white\" stroke=\"transparent\" points=\"-4,4 -4,-184 232.53,-184 232.53,4 -4,4\"/>\n",
       "<!-- 0 -->\n",
       "<g id=\"node1\" class=\"node\">\n",
       "<title>0</title>\n",
       "<ellipse fill=\"none\" stroke=\"blue\" cx=\"96\" cy=\"-18\" rx=\"27\" ry=\"18\"/>\n",
       "<text text-anchor=\"middle\" x=\"96\" y=\"-14.3\" font-family=\"Times,serif\" font-size=\"14.00\">0</text>\n",
       "</g>\n",
       "<!-- 1 -->\n",
       "<g id=\"node2\" class=\"node\">\n",
       "<title>1</title>\n",
       "<ellipse fill=\"none\" stroke=\"blue\" cx=\"189\" cy=\"-18\" rx=\"27\" ry=\"18\"/>\n",
       "<text text-anchor=\"middle\" x=\"189\" y=\"-14.3\" font-family=\"Times,serif\" font-size=\"14.00\">1</text>\n",
       "</g>\n",
       "<!-- 2 -->\n",
       "<g id=\"node3\" class=\"node\">\n",
       "<title>2</title>\n",
       "<ellipse fill=\"none\" stroke=\"red\" cx=\"111\" cy=\"-162\" rx=\"27\" ry=\"18\"/>\n",
       "<text text-anchor=\"middle\" x=\"111\" y=\"-158.3\" font-family=\"Times,serif\" font-size=\"14.00\">2</text>\n",
       "</g>\n",
       "<!-- 2&#45;&gt;0 -->\n",
       "<g id=\"edge1\" class=\"edge\">\n",
       "<title>2&#45;&gt;0</title>\n",
       "<path fill=\"none\" stroke=\"black\" d=\"M109.19,-143.87C106.63,-119.67 101.94,-75.21 98.89,-46.39\"/>\n",
       "<polygon fill=\"black\" stroke=\"black\" points=\"102.35,-45.77 97.82,-36.19 95.39,-46.5 102.35,-45.77\"/>\n",
       "</g>\n",
       "<!-- 5 -->\n",
       "<g id=\"node6\" class=\"node\">\n",
       "<title>5</title>\n",
       "<ellipse fill=\"none\" stroke=\"black\" cx=\"189\" cy=\"-90\" rx=\"27\" ry=\"18\"/>\n",
       "<text text-anchor=\"middle\" x=\"189\" y=\"-86.3\" font-family=\"Times,serif\" font-size=\"14.00\">5</text>\n",
       "</g>\n",
       "<!-- 2&#45;&gt;5 -->\n",
       "<g id=\"edge2\" class=\"edge\">\n",
       "<title>2&#45;&gt;5</title>\n",
       "<path fill=\"none\" stroke=\"black\" d=\"M126.41,-147.17C137.73,-137.01 153.31,-123.03 166.09,-111.56\"/>\n",
       "<polygon fill=\"black\" stroke=\"black\" points=\"168.52,-114.09 173.62,-104.8 163.84,-108.88 168.52,-114.09\"/>\n",
       "</g>\n",
       "<!-- 3 -->\n",
       "<g id=\"node4\" class=\"node\">\n",
       "<title>3</title>\n",
       "<ellipse fill=\"none\" stroke=\"red\" cx=\"189\" cy=\"-162\" rx=\"27\" ry=\"18\"/>\n",
       "<text text-anchor=\"middle\" x=\"189\" y=\"-158.3\" font-family=\"Times,serif\" font-size=\"14.00\">3</text>\n",
       "</g>\n",
       "<!-- 3&#45;&gt;0 -->\n",
       "<g id=\"edge3\" class=\"edge\">\n",
       "<title>3&#45;&gt;0</title>\n",
       "<path fill=\"none\" stroke=\"black\" d=\"M178.18,-145.31C170.97,-134.8 161.33,-120.63 153,-108 138.72,-86.35 122.83,-61.47 111.46,-43.53\"/>\n",
       "<polygon fill=\"black\" stroke=\"black\" points=\"114.27,-41.42 105.96,-34.84 108.35,-45.16 114.27,-41.42\"/>\n",
       "</g>\n",
       "<!-- 3&#45;&gt;1 -->\n",
       "<g id=\"edge4\" class=\"edge\">\n",
       "<title>3&#45;&gt;1</title>\n",
       "<path fill=\"none\" stroke=\"black\" d=\"M202.75,-146.07C210.96,-136.1 220.62,-122.25 225,-108 229.7,-92.71 229.7,-87.29 225,-72 221.71,-61.31 215.46,-50.85 209.07,-42.08\"/>\n",
       "<polygon fill=\"black\" stroke=\"black\" points=\"211.65,-39.69 202.75,-33.93 206.12,-43.98 211.65,-39.69\"/>\n",
       "</g>\n",
       "<!-- 3&#45;&gt;5 -->\n",
       "<g id=\"edge8\" class=\"edge\">\n",
       "<title>3&#45;&gt;5</title>\n",
       "<path fill=\"none\" stroke=\"black\" d=\"M189,-143.7C189,-135.98 189,-126.71 189,-118.11\"/>\n",
       "<polygon fill=\"black\" stroke=\"black\" points=\"192.5,-118.1 189,-108.1 185.5,-118.1 192.5,-118.1\"/>\n",
       "</g>\n",
       "<!-- 4 -->\n",
       "<g id=\"node5\" class=\"node\">\n",
       "<title>4</title>\n",
       "<ellipse fill=\"none\" stroke=\"red\" cx=\"27\" cy=\"-162\" rx=\"27\" ry=\"18\"/>\n",
       "<text text-anchor=\"middle\" x=\"27\" y=\"-158.3\" font-family=\"Times,serif\" font-size=\"14.00\">4</text>\n",
       "</g>\n",
       "<!-- 4&#45;&gt;0 -->\n",
       "<g id=\"edge5\" class=\"edge\">\n",
       "<title>4&#45;&gt;0</title>\n",
       "<path fill=\"none\" stroke=\"black\" d=\"M27.35,-143.97C28.38,-125.32 31.96,-94.99 44,-72 50.6,-59.38 61.19,-47.79 71.1,-38.68\"/>\n",
       "<polygon fill=\"black\" stroke=\"black\" points=\"73.58,-41.16 78.8,-31.94 68.97,-35.89 73.58,-41.16\"/>\n",
       "</g>\n",
       "<!-- 4&#45;&gt;1 -->\n",
       "<g id=\"edge6\" class=\"edge\">\n",
       "<title>4&#45;&gt;1</title>\n",
       "<path fill=\"none\" stroke=\"black\" d=\"M42.83,-147.13C71.45,-122.04 131.95,-69 165.45,-39.64\"/>\n",
       "<polygon fill=\"black\" stroke=\"black\" points=\"168.13,-41.95 173.35,-32.72 163.52,-36.68 168.13,-41.95\"/>\n",
       "</g>\n",
       "<!-- 5&#45;&gt;1 -->\n",
       "<g id=\"edge7\" class=\"edge\">\n",
       "<title>5&#45;&gt;1</title>\n",
       "<path fill=\"none\" stroke=\"black\" d=\"M189,-71.7C189,-63.98 189,-54.71 189,-46.11\"/>\n",
       "<polygon fill=\"black\" stroke=\"black\" points=\"192.5,-46.1 189,-36.1 185.5,-46.1 192.5,-46.1\"/>\n",
       "</g>\n",
       "</g>\n",
       "</svg>\n"
      ],
      "text/plain": [
       "<graphviz.dot.Digraph at 0x7f0abe5b15b0>"
      ]
     },
     "execution_count": 15,
     "metadata": {},
     "output_type": "execute_result"
    }
   ],
   "source": [
    "visualize_network(g1)"
   ]
  },
  {
   "cell_type": "code",
   "execution_count": 16,
   "metadata": {},
   "outputs": [
    {
     "data": {
      "image/svg+xml": [
       "<?xml version=\"1.0\" encoding=\"UTF-8\" standalone=\"no\"?>\n",
       "<!DOCTYPE svg PUBLIC \"-//W3C//DTD SVG 1.1//EN\"\n",
       " \"http://www.w3.org/Graphics/SVG/1.1/DTD/svg11.dtd\">\n",
       "<!-- Generated by graphviz version 2.44.1 (0)\n",
       " -->\n",
       "<!-- Pages: 1 -->\n",
       "<svg width=\"226pt\" height=\"188pt\"\n",
       " viewBox=\"0.00 0.00 226.31 188.00\" xmlns=\"http://www.w3.org/2000/svg\" xmlns:xlink=\"http://www.w3.org/1999/xlink\">\n",
       "<g id=\"graph0\" class=\"graph\" transform=\"scale(1 1) rotate(0) translate(4 184)\">\n",
       "<polygon fill=\"white\" stroke=\"transparent\" points=\"-4,4 -4,-184 222.31,-184 222.31,4 -4,4\"/>\n",
       "<!-- 0 -->\n",
       "<g id=\"node1\" class=\"node\">\n",
       "<title>0</title>\n",
       "<ellipse fill=\"none\" stroke=\"blue\" cx=\"150\" cy=\"-18\" rx=\"27\" ry=\"18\"/>\n",
       "<text text-anchor=\"middle\" x=\"150\" y=\"-14.3\" font-family=\"Times,serif\" font-size=\"14.00\">0</text>\n",
       "</g>\n",
       "<!-- 1 -->\n",
       "<g id=\"node2\" class=\"node\">\n",
       "<title>1</title>\n",
       "<ellipse fill=\"none\" stroke=\"blue\" cx=\"47\" cy=\"-18\" rx=\"27\" ry=\"18\"/>\n",
       "<text text-anchor=\"middle\" x=\"47\" y=\"-14.3\" font-family=\"Times,serif\" font-size=\"14.00\">1</text>\n",
       "</g>\n",
       "<!-- 2 -->\n",
       "<g id=\"node3\" class=\"node\">\n",
       "<title>2</title>\n",
       "<ellipse fill=\"none\" stroke=\"red\" cx=\"27\" cy=\"-162\" rx=\"27\" ry=\"18\"/>\n",
       "<text text-anchor=\"middle\" x=\"27\" y=\"-158.3\" font-family=\"Times,serif\" font-size=\"14.00\">2</text>\n",
       "</g>\n",
       "<!-- 2&#45;&gt;0 -->\n",
       "<g id=\"edge1\" class=\"edge\">\n",
       "<title>2&#45;&gt;0</title>\n",
       "<path fill=\"none\" stroke=\"black\" d=\"M39.93,-146.07C61.47,-121.21 104.82,-71.16 130.22,-41.84\"/>\n",
       "<polygon fill=\"black\" stroke=\"black\" points=\"132.97,-44.01 136.87,-34.16 127.68,-39.42 132.97,-44.01\"/>\n",
       "</g>\n",
       "<!-- 2&#45;&gt;1 -->\n",
       "<g id=\"edge2\" class=\"edge\">\n",
       "<title>2&#45;&gt;1</title>\n",
       "<path fill=\"none\" stroke=\"black\" d=\"M27.19,-143.83C27.61,-125.82 28.93,-96.76 33,-72 34.43,-63.32 36.65,-54 38.9,-45.63\"/>\n",
       "<polygon fill=\"black\" stroke=\"black\" points=\"42.27,-46.58 41.62,-36.01 35.54,-44.68 42.27,-46.58\"/>\n",
       "</g>\n",
       "<!-- 3 -->\n",
       "<g id=\"node4\" class=\"node\">\n",
       "<title>3</title>\n",
       "<ellipse fill=\"none\" stroke=\"red\" cx=\"189\" cy=\"-162\" rx=\"27\" ry=\"18\"/>\n",
       "<text text-anchor=\"middle\" x=\"189\" y=\"-158.3\" font-family=\"Times,serif\" font-size=\"14.00\">3</text>\n",
       "</g>\n",
       "<!-- 3&#45;&gt;0 -->\n",
       "<g id=\"edge3\" class=\"edge\">\n",
       "<title>3&#45;&gt;0</title>\n",
       "<path fill=\"none\" stroke=\"black\" d=\"M199.9,-145.33C211.12,-127.1 225.47,-96.4 214,-72 206.75,-56.58 192.56,-44.1 179.39,-35.14\"/>\n",
       "<polygon fill=\"black\" stroke=\"black\" points=\"181.27,-32.19 170.95,-29.76 177.5,-38.09 181.27,-32.19\"/>\n",
       "</g>\n",
       "<!-- 5 -->\n",
       "<g id=\"node6\" class=\"node\">\n",
       "<title>5</title>\n",
       "<ellipse fill=\"none\" stroke=\"black\" cx=\"178\" cy=\"-90\" rx=\"27\" ry=\"18\"/>\n",
       "<text text-anchor=\"middle\" x=\"178\" y=\"-86.3\" font-family=\"Times,serif\" font-size=\"14.00\">5</text>\n",
       "</g>\n",
       "<!-- 3&#45;&gt;5 -->\n",
       "<g id=\"edge4\" class=\"edge\">\n",
       "<title>3&#45;&gt;5</title>\n",
       "<path fill=\"none\" stroke=\"black\" d=\"M186.34,-144.05C185.13,-136.35 183.66,-127.03 182.3,-118.36\"/>\n",
       "<polygon fill=\"black\" stroke=\"black\" points=\"185.72,-117.61 180.71,-108.28 178.81,-118.7 185.72,-117.61\"/>\n",
       "</g>\n",
       "<!-- 4 -->\n",
       "<g id=\"node5\" class=\"node\">\n",
       "<title>4</title>\n",
       "<ellipse fill=\"none\" stroke=\"red\" cx=\"111\" cy=\"-162\" rx=\"27\" ry=\"18\"/>\n",
       "<text text-anchor=\"middle\" x=\"111\" y=\"-158.3\" font-family=\"Times,serif\" font-size=\"14.00\">4</text>\n",
       "</g>\n",
       "<!-- 4&#45;&gt;0 -->\n",
       "<g id=\"edge5\" class=\"edge\">\n",
       "<title>4&#45;&gt;0</title>\n",
       "<path fill=\"none\" stroke=\"black\" d=\"M115.63,-144.15C122.31,-119.81 134.74,-74.57 142.68,-45.67\"/>\n",
       "<polygon fill=\"black\" stroke=\"black\" points=\"146.11,-46.39 145.38,-35.82 139.36,-44.54 146.11,-46.39\"/>\n",
       "</g>\n",
       "<!-- 4&#45;&gt;1 -->\n",
       "<g id=\"edge6\" class=\"edge\">\n",
       "<title>4&#45;&gt;1</title>\n",
       "<path fill=\"none\" stroke=\"black\" d=\"M103.53,-144.43C92.5,-119.96 71.75,-73.91 58.69,-44.94\"/>\n",
       "<polygon fill=\"black\" stroke=\"black\" points=\"61.72,-43.14 54.42,-35.46 55.34,-46.02 61.72,-43.14\"/>\n",
       "</g>\n",
       "<!-- 5&#45;&gt;0 -->\n",
       "<g id=\"edge8\" class=\"edge\">\n",
       "<title>5&#45;&gt;0</title>\n",
       "<path fill=\"none\" stroke=\"black\" d=\"M171.36,-72.41C168.09,-64.22 164.06,-54.14 160.38,-44.95\"/>\n",
       "<polygon fill=\"black\" stroke=\"black\" points=\"163.55,-43.45 156.59,-35.47 157.05,-46.05 163.55,-43.45\"/>\n",
       "</g>\n",
       "<!-- 5&#45;&gt;1 -->\n",
       "<g id=\"edge7\" class=\"edge\">\n",
       "<title>5&#45;&gt;1</title>\n",
       "<path fill=\"none\" stroke=\"black\" d=\"M157.53,-78.06C135.71,-66.4 100.96,-47.83 76.25,-34.63\"/>\n",
       "<polygon fill=\"black\" stroke=\"black\" points=\"77.79,-31.49 67.33,-29.86 74.5,-37.66 77.79,-31.49\"/>\n",
       "</g>\n",
       "</g>\n",
       "</svg>\n"
      ],
      "text/plain": [
       "<graphviz.dot.Digraph at 0x7f0abe590670>"
      ]
     },
     "execution_count": 16,
     "metadata": {},
     "output_type": "execute_result"
    }
   ],
   "source": [
    "visualize_network(g2)"
   ]
  },
  {
   "cell_type": "code",
   "execution_count": 17,
   "metadata": {},
   "outputs": [
    {
     "data": {
      "application/vnd.jupyter.widget-view+json": {
       "model_id": "663535d05b564dbdbd5fc442cee71035",
       "version_major": 2,
       "version_minor": 0
      },
      "text/plain": [
       "Canvas(height=100, width=3000)"
      ]
     },
     "metadata": {},
     "output_type": "display_data"
    }
   ],
   "source": [
    "draw_genome(g1)"
   ]
  },
  {
   "cell_type": "code",
   "execution_count": 18,
   "metadata": {},
   "outputs": [
    {
     "data": {
      "application/vnd.jupyter.widget-view+json": {
       "model_id": "baae217b925a48e3bddeac914fbe94eb",
       "version_major": 2,
       "version_minor": 0
      },
      "text/plain": [
       "Canvas(height=100, width=3000)"
      ]
     },
     "metadata": {},
     "output_type": "display_data"
    }
   ],
   "source": [
    "draw_genome(g2)"
   ]
  },
  {
   "cell_type": "code",
   "execution_count": null,
   "metadata": {},
   "outputs": [],
   "source": []
  }
 ],
 "metadata": {
  "kernelspec": {
   "display_name": "Python 3",
   "language": "python",
   "name": "python3"
  },
  "language_info": {
   "codemirror_mode": {
    "name": "ipython",
    "version": 3
   },
   "file_extension": ".py",
   "mimetype": "text/x-python",
   "name": "python",
   "nbconvert_exporter": "python",
   "pygments_lexer": "ipython3",
   "version": "3.8.5"
  }
 },
 "nbformat": 4,
 "nbformat_minor": 4
}
