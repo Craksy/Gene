{
 "cells": [
  {
   "cell_type": "markdown",
   "metadata": {},
   "source": [
    "# Visualize Genome\n",
    "----\n",
    "This document provides a way to visualize genomes and their derived networks\n",
    "\n",
    "This is primarily intended as a debugging tool for development"
   ]
  },
  {
   "cell_type": "code",
   "execution_count": null,
   "metadata": {},
   "outputs": [],
   "source": [
    "%load_ext autoreload\n",
    "%autoreload 2"
   ]
  },
  {
   "cell_type": "code",
   "execution_count": 2,
   "metadata": {},
   "outputs": [],
   "source": [
    "from network import Network\n",
    "from genome import Genome\n",
    "from graphviz import Digraph\n",
    "from ipycanvas import Canvas\n",
    "from gene import Gene\n",
    "from sidecar import Sidecar"
   ]
  },
  {
   "cell_type": "markdown",
   "metadata": {},
   "source": [
    "---\n",
    "### Functions\n",
    "These are the tools used to visualize code objects.\n",
    "\n",
    "\n",
    "I might put these into actual python file, to reserve this document for testing"
   ]
  },
  {
   "cell_type": "code",
   "execution_count": 3,
   "metadata": {},
   "outputs": [],
   "source": [
    "def visualize_network(genome):\n",
    "    graph = Digraph()\n",
    "    ins = Digraph()\n",
    "    ins.graph_attr.update(rank='min')\n",
    "    outs = Digraph()\n",
    "    outs.graph_attr.update(rank='max')\n",
    "\n",
    "    for node, typ in genome.node_genes.items():\n",
    "        lbl = str(node)\n",
    "        color = None\n",
    "        if typ == 'input':\n",
    "            color = 'red'\n",
    "            ins.node(lbl, color='red')\n",
    "        elif typ == 'output':\n",
    "            color = 'blue'\n",
    "            outs.node(lbl, color='blue')\n",
    "        graph.node(lbl)\n",
    "\n",
    "    graph.subgraph(ins)\n",
    "    graph.subgraph(outs)\n",
    "    for con in genome.connection_genes:\n",
    "        if not con.enabled:\n",
    "            continue\n",
    "        graph.edge(str(con.in_node), str(con.out_node))\n",
    "    return graph"
   ]
  },
  {
   "cell_type": "code",
   "execution_count": 4,
   "metadata": {},
   "outputs": [],
   "source": [
    "def draw_gene(gene, canvas, x, y):\n",
    "    inno = 'Inno: {}'.format(gene.innovation)\n",
    "    edge = '{} -> {}'.format(gene.in_node, gene.out_node)\n",
    "    weight = 'W:{:.3f}'.format(gene.weight)\n",
    "    \n",
    "    canvas.stroke_rect(x,y, 60, 60)\n",
    "    canvas.fill_text(inno, x+7, y+15)\n",
    "    canvas.fill_text(edge, x+7, y+35)\n",
    "    canvas.fill_text(weight, x+7, y+55)"
   ]
  },
  {
   "cell_type": "code",
   "execution_count": 5,
   "metadata": {},
   "outputs": [],
   "source": [
    "def draw_genome(genome):\n",
    "    # TODO: do something about these horrible color choices.\n",
    "    can = Canvas(width=3000,height=100)\n",
    "    can.font = '12px sans'\n",
    "    can.stroke_style = 'blue'\n",
    "    can.fill_style = 'white'\n",
    "    \n",
    "    for i, g in enumerate(genome.connection_genes):\n",
    "        draw_gene(g, can, i*70, 5)\n",
    "    return can\n",
    "    "
   ]
  },
  {
   "cell_type": "markdown",
   "metadata": {},
   "source": [
    "---\n",
    "### Testing\n",
    "And this is where i test my code in order to find out how badly i messed up"
   ]
  },
  {
   "cell_type": "code",
   "execution_count": 6,
   "metadata": {},
   "outputs": [],
   "source": [
    "#test_genome = Genome(3,2)\n",
    "#test_genome.mutate_new_node()"
   ]
  },
  {
   "cell_type": "code",
   "execution_count": 7,
   "metadata": {},
   "outputs": [],
   "source": [
    "#test_genome.mutate_new_weight()"
   ]
  },
  {
   "cell_type": "code",
   "execution_count": 8,
   "metadata": {},
   "outputs": [],
   "source": [
    "#test_genome.mutate_new_node()"
   ]
  },
  {
   "cell_type": "code",
   "execution_count": 9,
   "metadata": {},
   "outputs": [],
   "source": [
    "#visualize_network(test_genome)"
   ]
  },
  {
   "cell_type": "code",
   "execution_count": 10,
   "metadata": {},
   "outputs": [],
   "source": [
    "#draw_genome(test_genome)"
   ]
  },
  {
   "cell_type": "markdown",
   "metadata": {},
   "source": [
    "# Process diagram\n",
    "made it mostly to produce an image to put in my notes.\n",
    "just for personal reference"
   ]
  },
  {
   "cell_type": "code",
   "execution_count": 11,
   "metadata": {},
   "outputs": [],
   "source": [
    "algorithm = Digraph(engine='circo')\n",
    "algorithm.node('I', 'Initialize')\n",
    "algorithm.node('E', 'Evaluate')\n",
    "algorithm.node('S', 'Speciate')\n",
    "algorithm.node('K', 'Cull')\n",
    "algorithm.node('C', 'Crossover')\n",
    "algorithm.node('M', 'Mutate')\n",
    "\n",
    "algorithm.edges(['IE', 'ES', 'SK', 'KC', 'CM', 'ME'])\n",
    "#algorithm"
   ]
  },
  {
   "cell_type": "code",
   "execution_count": 12,
   "metadata": {},
   "outputs": [
    {
     "data": {
      "text/plain": [
       "[39, 1, 1, 1, 1, 1, 1, 1, 1, 1, 1, 1]"
      ]
     },
     "execution_count": 12,
     "metadata": {},
     "output_type": "execute_result"
    }
   ],
   "source": [
    "g = Gene(None)\n",
    "g.init_population()\n",
    "g.speciate_population()\n",
    "[len(sp.population) for sp in g.species]"
   ]
  },
  {
   "cell_type": "code",
   "execution_count": 13,
   "metadata": {},
   "outputs": [],
   "source": [
    "sp = g.species[0]\n",
    "g1 = sp.population[5]\n",
    "g2 = sp.population[15]"
   ]
  },
  {
   "cell_type": "code",
   "execution_count": 14,
   "metadata": {},
   "outputs": [
    {
     "data": {
      "text/plain": [
       "<genome.Genome at 0x7f9785057f10>"
      ]
     },
     "execution_count": 14,
     "metadata": {},
     "output_type": "execute_result"
    }
   ],
   "source": [
    "g1"
   ]
  },
  {
   "cell_type": "code",
   "execution_count": 15,
   "metadata": {},
   "outputs": [],
   "source": [
    "out1 = visualize_network(g1)\n",
    "out2 = visualize_network(g2)"
   ]
  },
  {
   "cell_type": "code",
   "execution_count": 16,
   "metadata": {},
   "outputs": [],
   "source": [
    "sc = Sidecar(title='test')\n",
    "with sc:\n",
    "    display(out1)\n",
    "    display(out2)"
   ]
  },
  {
   "cell_type": "code",
   "execution_count": 17,
   "metadata": {},
   "outputs": [],
   "source": [
    "new = g.crossover(g1, g2)"
   ]
  },
  {
   "cell_type": "code",
   "execution_count": 18,
   "metadata": {},
   "outputs": [
    {
     "data": {
      "application/vnd.jupyter.widget-view+json": {
       "model_id": "96b5a6c06efd4d5f8d202cf534aacfd0",
       "version_major": 2,
       "version_minor": 0
      },
      "text/plain": [
       "Canvas(height=100, width=3000)"
      ]
     },
     "metadata": {},
     "output_type": "display_data"
    }
   ],
   "source": [
    "draw_genome(g1)"
   ]
  },
  {
   "cell_type": "code",
   "execution_count": 19,
   "metadata": {},
   "outputs": [
    {
     "data": {
      "application/vnd.jupyter.widget-view+json": {
       "model_id": "a2edb539f4cb42dca7262fc862f176c6",
       "version_major": 2,
       "version_minor": 0
      },
      "text/plain": [
       "Canvas(height=100, width=3000)"
      ]
     },
     "metadata": {},
     "output_type": "display_data"
    }
   ],
   "source": [
    "draw_genome(g2)"
   ]
  },
  {
   "cell_type": "code",
   "execution_count": 20,
   "metadata": {},
   "outputs": [
    {
     "data": {
      "application/vnd.jupyter.widget-view+json": {
       "model_id": "41384a65b1cc4428aaf0bd52c9dfc3c1",
       "version_major": 2,
       "version_minor": 0
      },
      "text/plain": [
       "Canvas(height=100, width=3000)"
      ]
     },
     "metadata": {},
     "output_type": "display_data"
    }
   ],
   "source": [
    "draw_genome(new)"
   ]
  },
  {
   "cell_type": "code",
   "execution_count": 21,
   "metadata": {},
   "outputs": [
    {
     "data": {
      "image/svg+xml": [
       "<?xml version=\"1.0\" encoding=\"UTF-8\" standalone=\"no\"?>\n",
       "<!DOCTYPE svg PUBLIC \"-//W3C//DTD SVG 1.1//EN\"\n",
       " \"http://www.w3.org/Graphics/SVG/1.1/DTD/svg11.dtd\">\n",
       "<!-- Generated by graphviz version 2.44.1 (0)\n",
       " -->\n",
       "<!-- Pages: 1 -->\n",
       "<svg width=\"287pt\" height=\"188pt\"\n",
       " viewBox=\"0.00 0.00 286.91 188.00\" xmlns=\"http://www.w3.org/2000/svg\" xmlns:xlink=\"http://www.w3.org/1999/xlink\">\n",
       "<g id=\"graph0\" class=\"graph\" transform=\"scale(1 1) rotate(0) translate(4 184)\">\n",
       "<polygon fill=\"white\" stroke=\"transparent\" points=\"-4,4 -4,-184 282.91,-184 282.91,4 -4,4\"/>\n",
       "<!-- 0 -->\n",
       "<g id=\"node1\" class=\"node\">\n",
       "<title>0</title>\n",
       "<ellipse fill=\"none\" stroke=\"red\" cx=\"150.91\" cy=\"-162\" rx=\"27\" ry=\"18\"/>\n",
       "<text text-anchor=\"middle\" x=\"150.91\" y=\"-158.3\" font-family=\"Times,serif\" font-size=\"14.00\">0</text>\n",
       "</g>\n",
       "<!-- 4 -->\n",
       "<g id=\"node5\" class=\"node\">\n",
       "<title>4</title>\n",
       "<ellipse fill=\"none\" stroke=\"blue\" cx=\"205.91\" cy=\"-18\" rx=\"27\" ry=\"18\"/>\n",
       "<text text-anchor=\"middle\" x=\"205.91\" y=\"-14.3\" font-family=\"Times,serif\" font-size=\"14.00\">4</text>\n",
       "</g>\n",
       "<!-- 0&#45;&gt;4 -->\n",
       "<g id=\"edge1\" class=\"edge\">\n",
       "<title>0&#45;&gt;4</title>\n",
       "<path fill=\"none\" stroke=\"black\" d=\"M163.66,-145.7C171.47,-135.59 181.06,-121.71 186.91,-108 195.38,-88.17 200.22,-64.2 202.89,-46.13\"/>\n",
       "<polygon fill=\"black\" stroke=\"black\" points=\"206.39,-46.37 204.26,-35.99 199.45,-45.43 206.39,-46.37\"/>\n",
       "</g>\n",
       "<!-- 5 -->\n",
       "<g id=\"node6\" class=\"node\">\n",
       "<title>5</title>\n",
       "<ellipse fill=\"none\" stroke=\"black\" cx=\"40.91\" cy=\"-90\" rx=\"27\" ry=\"18\"/>\n",
       "<text text-anchor=\"middle\" x=\"40.91\" y=\"-86.3\" font-family=\"Times,serif\" font-size=\"14.00\">5</text>\n",
       "</g>\n",
       "<!-- 0&#45;&gt;5 -->\n",
       "<g id=\"edge11\" class=\"edge\">\n",
       "<title>0&#45;&gt;5</title>\n",
       "<path fill=\"none\" stroke=\"black\" d=\"M131.75,-148.81C114.24,-137.67 88.15,-121.06 68.42,-108.5\"/>\n",
       "<polygon fill=\"black\" stroke=\"black\" points=\"70.17,-105.47 59.85,-103.05 66.41,-111.37 70.17,-105.47\"/>\n",
       "</g>\n",
       "<!-- 6 -->\n",
       "<g id=\"node7\" class=\"node\">\n",
       "<title>6</title>\n",
       "<ellipse fill=\"none\" stroke=\"black\" cx=\"150.91\" cy=\"-90\" rx=\"27\" ry=\"18\"/>\n",
       "<text text-anchor=\"middle\" x=\"150.91\" y=\"-86.3\" font-family=\"Times,serif\" font-size=\"14.00\">6</text>\n",
       "</g>\n",
       "<!-- 0&#45;&gt;6 -->\n",
       "<g id=\"edge8\" class=\"edge\">\n",
       "<title>0&#45;&gt;6</title>\n",
       "<path fill=\"none\" stroke=\"black\" d=\"M150.91,-143.7C150.91,-135.98 150.91,-126.71 150.91,-118.11\"/>\n",
       "<polygon fill=\"black\" stroke=\"black\" points=\"154.41,-118.1 150.91,-108.1 147.41,-118.1 154.41,-118.1\"/>\n",
       "</g>\n",
       "<!-- 1 -->\n",
       "<g id=\"node2\" class=\"node\">\n",
       "<title>1</title>\n",
       "<ellipse fill=\"none\" stroke=\"red\" cx=\"251.91\" cy=\"-162\" rx=\"27\" ry=\"18\"/>\n",
       "<text text-anchor=\"middle\" x=\"251.91\" y=\"-158.3\" font-family=\"Times,serif\" font-size=\"14.00\">1</text>\n",
       "</g>\n",
       "<!-- 3 -->\n",
       "<g id=\"node4\" class=\"node\">\n",
       "<title>3</title>\n",
       "<ellipse fill=\"none\" stroke=\"blue\" cx=\"95.91\" cy=\"-18\" rx=\"27\" ry=\"18\"/>\n",
       "<text text-anchor=\"middle\" x=\"95.91\" y=\"-14.3\" font-family=\"Times,serif\" font-size=\"14.00\">3</text>\n",
       "</g>\n",
       "<!-- 1&#45;&gt;3 -->\n",
       "<g id=\"edge2\" class=\"edge\">\n",
       "<title>1&#45;&gt;3</title>\n",
       "<path fill=\"none\" stroke=\"black\" d=\"M243.01,-144.99C231.81,-125.88 211.07,-93.78 186.91,-72 169.02,-55.87 145.45,-42.31 126.77,-32.94\"/>\n",
       "<polygon fill=\"black\" stroke=\"black\" points=\"128.3,-29.79 117.78,-28.56 125.24,-36.08 128.3,-29.79\"/>\n",
       "</g>\n",
       "<!-- 1&#45;&gt;4 -->\n",
       "<g id=\"edge3\" class=\"edge\">\n",
       "<title>1&#45;&gt;4</title>\n",
       "<path fill=\"none\" stroke=\"black\" d=\"M257.31,-144.22C262.29,-125.79 267.58,-95.65 257.91,-72 252.53,-58.82 242.1,-47.14 232,-38.13\"/>\n",
       "<polygon fill=\"black\" stroke=\"black\" points=\"233.98,-35.22 224.06,-31.49 229.49,-40.59 233.98,-35.22\"/>\n",
       "</g>\n",
       "<!-- 2 -->\n",
       "<g id=\"node3\" class=\"node\">\n",
       "<title>2</title>\n",
       "<ellipse fill=\"none\" stroke=\"red\" cx=\"40.91\" cy=\"-162\" rx=\"27\" ry=\"18\"/>\n",
       "<text text-anchor=\"middle\" x=\"40.91\" y=\"-158.3\" font-family=\"Times,serif\" font-size=\"14.00\">2</text>\n",
       "</g>\n",
       "<!-- 2&#45;&gt;3 -->\n",
       "<g id=\"edge4\" class=\"edge\">\n",
       "<title>2&#45;&gt;3</title>\n",
       "<path fill=\"none\" stroke=\"black\" d=\"M26.94,-146.25C11.54,-128.12 -9.29,-96.71 4.91,-72 17.05,-50.89 41.19,-37.4 61.56,-29.31\"/>\n",
       "<polygon fill=\"black\" stroke=\"black\" points=\"63.01,-32.51 71.19,-25.77 60.6,-25.94 63.01,-32.51\"/>\n",
       "</g>\n",
       "<!-- 2&#45;&gt;4 -->\n",
       "<g id=\"edge5\" class=\"edge\">\n",
       "<title>2&#45;&gt;4</title>\n",
       "<path fill=\"none\" stroke=\"black\" d=\"M51.53,-145.09C64.76,-126.07 88.83,-94.07 114.91,-72 133.21,-56.51 156.65,-42.98 175.15,-33.47\"/>\n",
       "<polygon fill=\"black\" stroke=\"black\" points=\"176.95,-36.48 184.32,-28.87 173.81,-30.23 176.95,-36.48\"/>\n",
       "</g>\n",
       "<!-- 2&#45;&gt;5 -->\n",
       "<g id=\"edge9\" class=\"edge\">\n",
       "<title>2&#45;&gt;5</title>\n",
       "<path fill=\"none\" stroke=\"black\" d=\"M40.91,-143.7C40.91,-135.98 40.91,-126.71 40.91,-118.11\"/>\n",
       "<polygon fill=\"black\" stroke=\"black\" points=\"44.41,-118.1 40.91,-108.1 37.41,-118.1 44.41,-118.1\"/>\n",
       "</g>\n",
       "<!-- 5&#45;&gt;3 -->\n",
       "<g id=\"edge10\" class=\"edge\">\n",
       "<title>5&#45;&gt;3</title>\n",
       "<path fill=\"none\" stroke=\"black\" d=\"M52.85,-73.81C60.13,-64.55 69.57,-52.52 77.77,-42.09\"/>\n",
       "<polygon fill=\"black\" stroke=\"black\" points=\"80.58,-44.18 84,-34.16 75.07,-39.86 80.58,-44.18\"/>\n",
       "</g>\n",
       "<!-- 5&#45;&gt;4 -->\n",
       "<g id=\"edge6\" class=\"edge\">\n",
       "<title>5&#45;&gt;4</title>\n",
       "<path fill=\"none\" stroke=\"black\" d=\"M63.16,-79.56C91.78,-67.42 141.67,-46.25 174.24,-32.44\"/>\n",
       "<polygon fill=\"black\" stroke=\"black\" points=\"175.91,-35.53 183.75,-28.4 173.18,-29.09 175.91,-35.53\"/>\n",
       "</g>\n",
       "<!-- 6&#45;&gt;3 -->\n",
       "<g id=\"edge7\" class=\"edge\">\n",
       "<title>6&#45;&gt;3</title>\n",
       "<path fill=\"none\" stroke=\"black\" d=\"M138.98,-73.81C131.7,-64.55 122.25,-52.52 114.06,-42.09\"/>\n",
       "<polygon fill=\"black\" stroke=\"black\" points=\"116.75,-39.86 107.82,-34.16 111.25,-44.18 116.75,-39.86\"/>\n",
       "</g>\n",
       "</g>\n",
       "</svg>\n"
      ],
      "text/plain": [
       "<graphviz.dot.Digraph at 0x7f97850147f0>"
      ]
     },
     "execution_count": 21,
     "metadata": {},
     "output_type": "execute_result"
    }
   ],
   "source": [
    "visualize_network(new)"
   ]
  },
  {
   "cell_type": "markdown",
   "metadata": {},
   "source": [
    "# "
   ]
  }
 ],
 "metadata": {
  "kernelspec": {
   "display_name": "Python 3",
   "language": "python",
   "name": "python3"
  },
  "language_info": {
   "codemirror_mode": {
    "name": "ipython",
    "version": 3
   },
   "file_extension": ".py",
   "mimetype": "text/x-python",
   "name": "python",
   "nbconvert_exporter": "python",
   "pygments_lexer": "ipython3",
   "version": "3.8.5"
  }
 },
 "nbformat": 4,
 "nbformat_minor": 4
}
