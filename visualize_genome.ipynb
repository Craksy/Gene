{
 "cells": [
  {
   "cell_type": "markdown",
   "metadata": {},
   "source": [
    "# Visualize Genome\n",
    "----\n",
    "This document provides a way to visualize genomes and their derived networks\n",
    "\n",
    "This is primarily intended as a debugging tool for development"
   ]
  },
  {
   "cell_type": "code",
   "execution_count": 1,
   "metadata": {},
   "outputs": [],
   "source": [
    "%load_ext autoreload\n",
    "%autoreload 2"
   ]
  },
  {
   "cell_type": "code",
   "execution_count": 2,
   "metadata": {},
   "outputs": [],
   "source": [
    "from network import Network\n",
    "from genome import Genome\n",
    "from graphviz import Digraph\n",
    "from ipycanvas import Canvas\n",
    "from gene import Gene\n",
    "from sidecar import Sidecar"
   ]
  },
  {
   "cell_type": "markdown",
   "metadata": {},
   "source": [
    "---\n",
    "### Functions\n",
    "These are the tools used to visualize code objects.\n",
    "\n",
    "\n",
    "I might put these into actual python file, to reserve this document for testing"
   ]
  },
  {
   "cell_type": "code",
   "execution_count": 3,
   "metadata": {},
   "outputs": [],
   "source": [
    "def visualize_network(genome):\n",
    "    graph = Digraph()\n",
    "    ins = Digraph()\n",
    "    ins.graph_attr.update(rank='min')\n",
    "    outs = Digraph()\n",
    "    outs.graph_attr.update(rank='max')\n",
    "\n",
    "    for node, typ in genome.node_genes.items():\n",
    "        lbl = str(node)\n",
    "        color = None\n",
    "        if typ == 'input':\n",
    "            color = 'red'\n",
    "            ins.node(lbl, color='red')\n",
    "        elif typ == 'output':\n",
    "            color = 'blue'\n",
    "            outs.node(lbl, color='blue')\n",
    "        graph.node(lbl)\n",
    "\n",
    "    graph.subgraph(ins)\n",
    "    graph.subgraph(outs)\n",
    "    for con in genome.connection_genes:\n",
    "        if not con.enabled:\n",
    "            continue\n",
    "        graph.edge(str(con.in_node), str(con.out_node))\n",
    "    return graph"
   ]
  },
  {
   "cell_type": "code",
   "execution_count": 4,
   "metadata": {},
   "outputs": [],
   "source": [
    "def draw_gene(gene, canvas, x, y):\n",
    "    inno = 'Inno: {}'.format(gene.innovation)\n",
    "    edge = '{} -> {}'.format(gene.in_node, gene.out_node)\n",
    "    weight = 'W:{:.3f}'.format(gene.weight)\n",
    "    \n",
    "    canvas.stroke_rect(x,y, 60, 60)\n",
    "    canvas.fill_text(inno, x+7, y+15)\n",
    "    canvas.fill_text(edge, x+7, y+35)\n",
    "    canvas.fill_text(weight, x+7, y+55)"
   ]
  },
  {
   "cell_type": "code",
   "execution_count": 5,
   "metadata": {},
   "outputs": [],
   "source": [
    "def draw_genome(genome):\n",
    "    # TODO: do something about these horrible color choices.\n",
    "    can = Canvas(width=3000,height=100)\n",
    "    can.font = '12px sans'\n",
    "    can.stroke_style = 'blue'\n",
    "    can.fill_style = 'white'\n",
    "    \n",
    "    for i, g in enumerate(genome.connection_genes):\n",
    "        draw_gene(g, can, i*70, 5)\n",
    "    return can\n",
    "    "
   ]
  },
  {
   "cell_type": "markdown",
   "metadata": {},
   "source": [
    "---\n",
    "### Testing\n",
    "And this is where i test my code in order to find out how badly i messed up"
   ]
  },
  {
   "cell_type": "code",
   "execution_count": 6,
   "metadata": {},
   "outputs": [],
   "source": [
    "#test_genome = Genome(3,2)\n",
    "#test_genome.mutate_new_node()"
   ]
  },
  {
   "cell_type": "code",
   "execution_count": 7,
   "metadata": {},
   "outputs": [],
   "source": [
    "#test_genome.mutate_new_weight()"
   ]
  },
  {
   "cell_type": "code",
   "execution_count": 8,
   "metadata": {},
   "outputs": [],
   "source": [
    "#test_genome.mutate_new_node()"
   ]
  },
  {
   "cell_type": "code",
   "execution_count": 9,
   "metadata": {},
   "outputs": [],
   "source": [
    "#visualize_network(test_genome)"
   ]
  },
  {
   "cell_type": "code",
   "execution_count": 10,
   "metadata": {},
   "outputs": [],
   "source": [
    "#draw_genome(test_genome)"
   ]
  },
  {
   "cell_type": "markdown",
   "metadata": {},
   "source": [
    "# Process diagram\n",
    "made it mostly to produce an image to put in my notes.\n",
    "just for personal reference"
   ]
  },
  {
   "cell_type": "code",
   "execution_count": 11,
   "metadata": {},
   "outputs": [],
   "source": [
    "algorithm = Digraph(engine='circo')\n",
    "algorithm.node('I', 'Initialize')\n",
    "algorithm.node('E', 'Evaluate')\n",
    "algorithm.node('S', 'Speciate')\n",
    "algorithm.node('K', 'Cull')\n",
    "algorithm.node('C', 'Crossover')\n",
    "algorithm.node('M', 'Mutate')\n",
    "\n",
    "algorithm.edges(['IE', 'ES', 'SK', 'KC', 'CM', 'ME'])\n",
    "#algorithm"
   ]
  },
  {
   "cell_type": "code",
   "execution_count": 12,
   "metadata": {},
   "outputs": [
    {
     "data": {
      "text/plain": [
       "[40, 1, 1, 1, 1, 1, 1, 1, 1, 1, 1]"
      ]
     },
     "execution_count": 12,
     "metadata": {},
     "output_type": "execute_result"
    }
   ],
   "source": [
    "g = Gene(None)\n",
    "g.init_population()\n",
    "g.speciate_population()\n",
    "[len(sp.population) for sp in g.species]"
   ]
  },
  {
   "cell_type": "code",
   "execution_count": 13,
   "metadata": {},
   "outputs": [],
   "source": [
    "sp = g.species[0]\n",
    "g1 = sp.population[5]\n",
    "g2 = sp.population[15]"
   ]
  },
  {
   "cell_type": "code",
   "execution_count": 14,
   "metadata": {},
   "outputs": [
    {
     "data": {
      "text/plain": [
       "<genome.Genome at 0x7fa0436aee50>"
      ]
     },
     "execution_count": 14,
     "metadata": {},
     "output_type": "execute_result"
    }
   ],
   "source": [
    "g1"
   ]
  },
  {
   "cell_type": "code",
   "execution_count": 15,
   "metadata": {},
   "outputs": [],
   "source": [
    "out1 = visualize_network(g1)\n",
    "out2 = visualize_network(g2)"
   ]
  },
  {
   "cell_type": "code",
   "execution_count": 16,
   "metadata": {},
   "outputs": [],
   "source": [
    "sc = Sidecar(title='test')\n",
    "with sc:\n",
    "    display(out1)\n",
    "    display(out2)"
   ]
  },
  {
   "cell_type": "code",
   "execution_count": 17,
   "metadata": {},
   "outputs": [],
   "source": [
    "new = g.crossover(g1, g2)"
   ]
  },
  {
   "cell_type": "code",
   "execution_count": 18,
   "metadata": {},
   "outputs": [
    {
     "data": {
      "application/vnd.jupyter.widget-view+json": {
       "model_id": "b66d7454ff134ee495fa24ae7096869e",
       "version_major": 2,
       "version_minor": 0
      },
      "text/plain": [
       "Canvas(height=100, width=3000)"
      ]
     },
     "metadata": {},
     "output_type": "display_data"
    }
   ],
   "source": [
    "draw_genome(g1)"
   ]
  },
  {
   "cell_type": "code",
   "execution_count": 19,
   "metadata": {},
   "outputs": [
    {
     "data": {
      "application/vnd.jupyter.widget-view+json": {
       "model_id": "79294699f15543a6810c543d776a3dee",
       "version_major": 2,
       "version_minor": 0
      },
      "text/plain": [
       "Canvas(height=100, width=3000)"
      ]
     },
     "metadata": {},
     "output_type": "display_data"
    }
   ],
   "source": [
    "draw_genome(g2)"
   ]
  },
  {
   "cell_type": "code",
   "execution_count": 20,
   "metadata": {},
   "outputs": [
    {
     "data": {
      "application/vnd.jupyter.widget-view+json": {
       "model_id": "f82987e8661349c7875df43d3265e844",
       "version_major": 2,
       "version_minor": 0
      },
      "text/plain": [
       "Canvas(height=100, width=3000)"
      ]
     },
     "metadata": {},
     "output_type": "display_data"
    }
   ],
   "source": [
    "draw_genome(new)"
   ]
  },
  {
   "cell_type": "code",
   "execution_count": 21,
   "metadata": {},
   "outputs": [
    {
     "data": {
      "image/svg+xml": [
       "<?xml version=\"1.0\" encoding=\"UTF-8\" standalone=\"no\"?>\n",
       "<!DOCTYPE svg PUBLIC \"-//W3C//DTD SVG 1.1//EN\"\n",
       " \"http://www.w3.org/Graphics/SVG/1.1/DTD/svg11.dtd\">\n",
       "<!-- Generated by graphviz version 2.44.1 (0)\n",
       " -->\n",
       "<!-- Pages: 1 -->\n",
       "<svg width=\"279pt\" height=\"188pt\"\n",
       " viewBox=\"0.00 0.00 279.07 188.00\" xmlns=\"http://www.w3.org/2000/svg\" xmlns:xlink=\"http://www.w3.org/1999/xlink\">\n",
       "<g id=\"graph0\" class=\"graph\" transform=\"scale(1 1) rotate(0) translate(4 184)\">\n",
       "<polygon fill=\"white\" stroke=\"transparent\" points=\"-4,4 -4,-184 275.07,-184 275.07,4 -4,4\"/>\n",
       "<!-- 0 -->\n",
       "<g id=\"node1\" class=\"node\">\n",
       "<title>0</title>\n",
       "<ellipse fill=\"none\" stroke=\"red\" cx=\"27\" cy=\"-162\" rx=\"27\" ry=\"18\"/>\n",
       "<text text-anchor=\"middle\" x=\"27\" y=\"-158.3\" font-family=\"Times,serif\" font-size=\"14.00\">0</text>\n",
       "</g>\n",
       "<!-- 3 -->\n",
       "<g id=\"node4\" class=\"node\">\n",
       "<title>3</title>\n",
       "<ellipse fill=\"none\" stroke=\"blue\" cx=\"84\" cy=\"-18\" rx=\"27\" ry=\"18\"/>\n",
       "<text text-anchor=\"middle\" x=\"84\" y=\"-14.3\" font-family=\"Times,serif\" font-size=\"14.00\">3</text>\n",
       "</g>\n",
       "<!-- 0&#45;&gt;3 -->\n",
       "<g id=\"edge1\" class=\"edge\">\n",
       "<title>0&#45;&gt;3</title>\n",
       "<path fill=\"none\" stroke=\"black\" d=\"M18.85,-144.68C10.82,-126.11 1.29,-95.35 13,-72 21.39,-55.26 37.86,-42.46 52.82,-33.63\"/>\n",
       "<polygon fill=\"black\" stroke=\"black\" points=\"54.79,-36.54 61.86,-28.65 51.41,-30.41 54.79,-36.54\"/>\n",
       "</g>\n",
       "<!-- 4 -->\n",
       "<g id=\"node5\" class=\"node\">\n",
       "<title>4</title>\n",
       "<ellipse fill=\"none\" stroke=\"blue\" cx=\"165\" cy=\"-18\" rx=\"27\" ry=\"18\"/>\n",
       "<text text-anchor=\"middle\" x=\"165\" y=\"-14.3\" font-family=\"Times,serif\" font-size=\"14.00\">4</text>\n",
       "</g>\n",
       "<!-- 0&#45;&gt;4 -->\n",
       "<g id=\"edge2\" class=\"edge\">\n",
       "<title>0&#45;&gt;4</title>\n",
       "<path fill=\"none\" stroke=\"black\" d=\"M34.89,-144.44C44.54,-125.39 62.31,-93.9 84,-72 98.83,-57.03 118.56,-44.01 134.84,-34.62\"/>\n",
       "<polygon fill=\"black\" stroke=\"black\" points=\"136.94,-37.45 143.96,-29.52 133.52,-31.34 136.94,-37.45\"/>\n",
       "</g>\n",
       "<!-- 5 -->\n",
       "<g id=\"node6\" class=\"node\">\n",
       "<title>5</title>\n",
       "<ellipse fill=\"none\" stroke=\"black\" cx=\"120\" cy=\"-90\" rx=\"27\" ry=\"18\"/>\n",
       "<text text-anchor=\"middle\" x=\"120\" y=\"-86.3\" font-family=\"Times,serif\" font-size=\"14.00\">5</text>\n",
       "</g>\n",
       "<!-- 0&#45;&gt;5 -->\n",
       "<g id=\"edge8\" class=\"edge\">\n",
       "<title>0&#45;&gt;5</title>\n",
       "<path fill=\"none\" stroke=\"black\" d=\"M44.49,-147.83C58.52,-137.27 78.42,-122.3 94.26,-110.37\"/>\n",
       "<polygon fill=\"black\" stroke=\"black\" points=\"96.7,-112.92 102.59,-104.11 92.49,-107.32 96.7,-112.92\"/>\n",
       "</g>\n",
       "<!-- 1 -->\n",
       "<g id=\"node2\" class=\"node\">\n",
       "<title>1</title>\n",
       "<ellipse fill=\"none\" stroke=\"red\" cx=\"230\" cy=\"-162\" rx=\"27\" ry=\"18\"/>\n",
       "<text text-anchor=\"middle\" x=\"230\" y=\"-158.3\" font-family=\"Times,serif\" font-size=\"14.00\">1</text>\n",
       "</g>\n",
       "<!-- 1&#45;&gt;4 -->\n",
       "<g id=\"edge3\" class=\"edge\">\n",
       "<title>1&#45;&gt;4</title>\n",
       "<path fill=\"none\" stroke=\"black\" d=\"M243.88,-146.47C259.48,-128.28 280.83,-96.53 266,-72 251.81,-48.53 223.41,-34.94 200.33,-27.41\"/>\n",
       "<polygon fill=\"black\" stroke=\"black\" points=\"201.08,-23.98 190.5,-24.46 199.07,-30.69 201.08,-23.98\"/>\n",
       "</g>\n",
       "<!-- 1&#45;&gt;5 -->\n",
       "<g id=\"edge6\" class=\"edge\">\n",
       "<title>1&#45;&gt;5</title>\n",
       "<path fill=\"none\" stroke=\"black\" d=\"M210.84,-148.81C193.33,-137.67 167.24,-121.06 147.51,-108.5\"/>\n",
       "<polygon fill=\"black\" stroke=\"black\" points=\"149.26,-105.47 138.94,-103.05 145.5,-111.37 149.26,-105.47\"/>\n",
       "</g>\n",
       "<!-- 6 -->\n",
       "<g id=\"node7\" class=\"node\">\n",
       "<title>6</title>\n",
       "<ellipse fill=\"none\" stroke=\"black\" cx=\"230\" cy=\"-90\" rx=\"27\" ry=\"18\"/>\n",
       "<text text-anchor=\"middle\" x=\"230\" y=\"-86.3\" font-family=\"Times,serif\" font-size=\"14.00\">6</text>\n",
       "</g>\n",
       "<!-- 1&#45;&gt;6 -->\n",
       "<g id=\"edge10\" class=\"edge\">\n",
       "<title>1&#45;&gt;6</title>\n",
       "<path fill=\"none\" stroke=\"black\" d=\"M230,-143.7C230,-135.98 230,-126.71 230,-118.11\"/>\n",
       "<polygon fill=\"black\" stroke=\"black\" points=\"233.5,-118.1 230,-108.1 226.5,-118.1 233.5,-118.1\"/>\n",
       "</g>\n",
       "<!-- 2 -->\n",
       "<g id=\"node3\" class=\"node\">\n",
       "<title>2</title>\n",
       "<ellipse fill=\"none\" stroke=\"red\" cx=\"120\" cy=\"-162\" rx=\"27\" ry=\"18\"/>\n",
       "<text text-anchor=\"middle\" x=\"120\" y=\"-158.3\" font-family=\"Times,serif\" font-size=\"14.00\">2</text>\n",
       "</g>\n",
       "<!-- 2&#45;&gt;3 -->\n",
       "<g id=\"edge4\" class=\"edge\">\n",
       "<title>2&#45;&gt;3</title>\n",
       "<path fill=\"none\" stroke=\"black\" d=\"M106.25,-146.07C98.04,-136.1 88.38,-122.25 84,-108 77.84,-87.97 78.21,-64.18 79.91,-46.24\"/>\n",
       "<polygon fill=\"black\" stroke=\"black\" points=\"83.41,-46.51 81.07,-36.17 76.45,-45.71 83.41,-46.51\"/>\n",
       "</g>\n",
       "<!-- 2&#45;&gt;4 -->\n",
       "<g id=\"edge5\" class=\"edge\">\n",
       "<title>2&#45;&gt;4</title>\n",
       "<path fill=\"none\" stroke=\"black\" d=\"M133.27,-145.91C141.28,-135.87 150.91,-122.01 156,-108 163.2,-88.21 165.29,-64.41 165.68,-46.4\"/>\n",
       "<polygon fill=\"black\" stroke=\"black\" points=\"169.18,-46.3 165.72,-36.28 162.18,-46.27 169.18,-46.3\"/>\n",
       "</g>\n",
       "<!-- 2&#45;&gt;5 -->\n",
       "<g id=\"edge12\" class=\"edge\">\n",
       "<title>2&#45;&gt;5</title>\n",
       "<path fill=\"none\" stroke=\"black\" d=\"M120,-143.7C120,-135.98 120,-126.71 120,-118.11\"/>\n",
       "<polygon fill=\"black\" stroke=\"black\" points=\"123.5,-118.1 120,-108.1 116.5,-118.1 123.5,-118.1\"/>\n",
       "</g>\n",
       "<!-- 5&#45;&gt;3 -->\n",
       "<g id=\"edge9\" class=\"edge\">\n",
       "<title>5&#45;&gt;3</title>\n",
       "<path fill=\"none\" stroke=\"black\" d=\"M111.65,-72.76C107.29,-64.28 101.85,-53.71 96.96,-44.2\"/>\n",
       "<polygon fill=\"black\" stroke=\"black\" points=\"99.99,-42.44 92.3,-35.15 93.77,-45.64 99.99,-42.44\"/>\n",
       "</g>\n",
       "<!-- 5&#45;&gt;4 -->\n",
       "<g id=\"edge7\" class=\"edge\">\n",
       "<title>5&#45;&gt;4</title>\n",
       "<path fill=\"none\" stroke=\"black\" d=\"M130.21,-73.12C135.85,-64.34 142.97,-53.26 149.3,-43.42\"/>\n",
       "<polygon fill=\"black\" stroke=\"black\" points=\"152.37,-45.13 154.83,-34.82 146.48,-41.34 152.37,-45.13\"/>\n",
       "</g>\n",
       "<!-- 6&#45;&gt;3 -->\n",
       "<g id=\"edge11\" class=\"edge\">\n",
       "<title>6&#45;&gt;3</title>\n",
       "<path fill=\"none\" stroke=\"black\" d=\"M208.77,-78.82C183.9,-66.9 142.52,-47.06 114.28,-33.52\"/>\n",
       "<polygon fill=\"black\" stroke=\"black\" points=\"115.79,-30.36 105.26,-29.19 112.76,-36.67 115.79,-30.36\"/>\n",
       "</g>\n",
       "</g>\n",
       "</svg>\n"
      ],
      "text/plain": [
       "<graphviz.dot.Digraph at 0x7fa04355c670>"
      ]
     },
     "execution_count": 21,
     "metadata": {},
     "output_type": "execute_result"
    }
   ],
   "source": [
    "visualize_network(new)"
   ]
  },
  {
   "cell_type": "markdown",
   "metadata": {},
   "source": [
    "# "
   ]
  }
 ],
 "metadata": {
  "kernelspec": {
   "display_name": "Python 3",
   "language": "python",
   "name": "python3"
  },
  "language_info": {
   "codemirror_mode": {
    "name": "ipython",
    "version": 3
   },
   "file_extension": ".py",
   "mimetype": "text/x-python",
   "name": "python",
   "nbconvert_exporter": "python",
   "pygments_lexer": "ipython3",
   "version": "3.8.5"
  }
 },
 "nbformat": 4,
 "nbformat_minor": 4
}
